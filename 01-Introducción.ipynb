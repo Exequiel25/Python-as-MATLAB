{
 "cells": [
  {
   "cell_type": "markdown",
   "id": "4316574f-b397-4c5d-bc14-19bc495fd3dd",
   "metadata": {},
   "source": [
    "# Introducción al uso de Python para sistemas de control"
   ]
  },
  {
   "cell_type": "markdown",
   "id": "162ff0af-68c1-447f-a0de-1168c3d315c6",
   "metadata": {
    "tags": []
   },
   "source": [
    "## Tabla comparativa de comandos entre MATLAB y Python\n",
    "\n",
    "Observamos que se requieren las librerías `numpy`, `matplotlib.pyplot` y `scipy.signal`. Podemos usar `control` como alternativa ya que se tiene <a href=\"https://python-control.readthedocs.io/_/downloads/en/0.8.4/pdf/#page=95&zoom=100,96,96\">Módulo de Compatibilidad MATLAB</a> accediendo con `control.matlab` (los comandos tendran un comportamiento similar). Para ver todas las dependencias necesarias, puede ver el archivo `requirements.txt`.\n",
    "\n",
    "Tener en cuenta que control utiliza la librería `numpy` y `scipy`. Y en algunas ocaciones será necesario acudir directamente a ellas. Trataremos de realizar una transferencia clara al momento de importar las librerías para utilizar los comandos similares a MATLAB.\n",
    "\n",
    "Un problema que enfrentaremos, es que en MATLAB se admite la separación de elementos de un arreglo con espacio, que en Python no está permitido (sólo con ','), lo que producirá un error. Además, respecto a la presentación por pantalla, MATLAB utiliza ';' para indicar si se debe mostrar o no la variable por la terminal, en Python será considerado un error de sintaxis."
   ]
  },
  {
   "cell_type": "markdown",
   "id": "259810be-32b6-44a5-a1b4-0c59b49c67e4",
   "metadata": {},
   "source": [
    "| MATLAB Command | Python Equivalent             | Equivalente en Python (control)  |\n",
    "|----------------|-------------------------------|----------------------------------|\n",
    "| exp            | numpy.exp                     |                 -                |\n",
    "| sin            | numpy.sin                     |                 -                |\n",
    "| cos            | numpy.cos                     |                 -                |\n",
    "| sinh           | numpy.sinh                    |                 -                |\n",
    "| cosh           | numpy.cosh                    |                 -                |\n",
    "| clf            | matplotlib.pyplot.clf         |                 -                |\n",
    "| plot           | matplotlib.pyplot.plot        |                 -                |\n",
    "| subplot        | matplotlib.pyplot.subplot     |                 -                |\n",
    "| hold           | matplotlib.pyplot.hold        |                 -                |\n",
    "| title          | matplotlib.pyplot.title       |                 -                |\n",
    "| xlabel         | matplotlib.pyplot.xlabel      |                 -                |\n",
    "| ylabel         | matplotlib.pyplot.ylabel      |                 -                |\n",
    "| text           | matplotlib.pyplot.text        |                 -                |\n",
    "| print          | matplotlib.pyplot.savefig     |                 -                |\n",
    "| figure         | matplotlib.pyplot.figure      |                 -                |\n",
    "| impulse        | scipy.signal.impulse          | control.matlab.impulse           |\n",
    "| step           | scipy.signal.step             | control.matlab.step              |\n",
    "| tf             | scipy.signal.TransferFunction | control.tf                       |\n",
    "| zpk            | scipy.signal.zpk2tf           | control.matlab.zpk2tf            |\n",
    "| ss2tf          | scipy.signal.ss2tf            | control.matlab.ss2tf             |\n",
    "| tf2zp          | scipy.signal.tf2zpk           | control.matlab.tf2zpk            |\n",
    "| ss2zp          | scipy.signal.ss2zpk           | control.matlab.ss2zpk            |\n",
    "| zp2tf          | scipy.signal.zpk2tf           | control.matlab.zpk2tf            |\n",
    "| tf2ss          | scipy.signal.tf2ss            | control.matlab.tf2ss             |\n",
    "| zp2ss          | scipy.signal.zpk2ss           | control.matlab.zpk2ss            |\n",
    "| bode           | scipy.signal.bode             | control.bode                     |\n",
    "| nyquist        | scipy.signal.nyquist          | control.nyquist                  |\n",
    "| margin         | -                             | control.margin                   |\n",
    "| rlocus         | -                             | control.rlocus                   |\n",
    "| lsim           | scipy.signal.lsim             | control.matlab.lsim              |\n",
    "| c2d            | scipy.signal.cont2discrete    | control.matlab.c2d               |\n",
    "| pzmap          | -                             | control.pzmap                    |"
   ]
  },
  {
   "cell_type": "markdown",
   "id": "4dc8c76d",
   "metadata": {},
   "source": [
    "## Importar librerías"
   ]
  },
  {
   "cell_type": "code",
   "execution_count": 1,
   "id": "3beaacda-d73e-4c4a-82a7-0237257f4938",
   "metadata": {},
   "outputs": [],
   "source": [
    "# Import commands similar to the original code in MATLAB\n",
    "from numpy import poly, roots\n",
    "from numpy import convolve as conv\n",
    "from scipy.signal import residue\n",
    "from control.matlab import tf, tf2zpk, zpk2tf, pzmap, feedback, series, parallel, impulse, step\n",
    "from matplotlib.pyplot import plot, show, grid, title, xlabel, ylabel, legend, xlim, ylim, subplot, figure"
   ]
  },
  {
   "cell_type": "markdown",
   "id": "04228bdd",
   "metadata": {},
   "source": [
    "## Raı́ces de un polinomio\n",
    "\n",
    "### Obtención de las raíces\n",
    "Supongamos el siguiente polinomio $P = s^4 + 4s^3 + 4s^2 + s +20$. Ingresaremos el polinomio como vector:"
   ]
  },
  {
   "cell_type": "markdown",
   "id": "5301d6ae",
   "metadata": {},
   "source": [
    "##### MATLAB\n",
    "```MATLAB\n",
    "% Definir los coeficientes del polinomio\n",
    "P = [1 4 4 1 20]; % Coeficientes de s^4 + 4s^3 + 4s^2 + s + 20\n",
    "\n",
    "% Calcular las raíces del polinomio\n",
    "raices = roots(P)\n",
    "```"
   ]
  },
  {
   "cell_type": "markdown",
   "id": "c34cbd6d",
   "metadata": {},
   "source": [
    "##### Python"
   ]
  },
  {
   "cell_type": "code",
   "execution_count": 2,
   "id": "715a1f9d",
   "metadata": {},
   "outputs": [
    {
     "name": "stdout",
     "output_type": "stream",
     "text": [
      "Las raíces del polinomio son: [-2.65449206+1.25946028j -2.65449206-1.25946028j  0.65449206+1.37420805j\n",
      "  0.65449206-1.37420805j]\n"
     ]
    }
   ],
   "source": [
    "# Definir los coeficientes del polinomio\n",
    "p = [1, 4, 4, 1, 20]  # Coeficientes de s^4 + 4s^3 + 4s^2 + s + 20\n",
    "\n",
    "# Calcular las raíces del polinomio\n",
    "r = roots(p)\n",
    "\n",
    "# Mostrar las raíces\n",
    "print(\"Las raíces del polinomio son:\", r)"
   ]
  },
  {
   "cell_type": "markdown",
   "id": "d50205ae",
   "metadata": {},
   "source": [
    "### Obtención de los coeficientes\n",
    "A partir de las raíces, obtenemos el polinomio."
   ]
  },
  {
   "cell_type": "markdown",
   "id": "dee70bdf",
   "metadata": {},
   "source": [
    "##### MATLAB\n",
    "```MATLAB\n",
    "% Definir las raíces del polinomio\n",
    "raices = [-2, -1 + 2j, -1 - 2j, -3]; % Ejemplo de raíces\n",
    "\n",
    "% Calcular los coeficientes del polinomio\n",
    "P = poly(raices)\n",
    "```"
   ]
  },
  {
   "cell_type": "markdown",
   "id": "9259e460",
   "metadata": {},
   "source": [
    "##### Python"
   ]
  },
  {
   "cell_type": "code",
   "execution_count": 3,
   "id": "1112ea70",
   "metadata": {},
   "outputs": [
    {
     "name": "stdout",
     "output_type": "stream",
     "text": [
      "Los coeficientes del polinomio son: [ 1.          4.          4.00000001  1.00000006 20.00000001]\n"
     ]
    }
   ],
   "source": [
    "# Definir las raíces del polinomio\n",
    "raices = [-2.65449206+1.25946028j, -2.65449206-1.25946028j,\n",
    "           0.65449206+1.37420805j,  0.65449206-1.37420805j]\n",
    "\n",
    "# Calcular los coeficientes del polinomio\n",
    "p = poly(raices)\n",
    "\n",
    "# Mostrar los coeficientes del polinomio\n",
    "print(\"Los coeficientes del polinomio son:\", p)"
   ]
  },
  {
   "cell_type": "markdown",
   "id": "4558bcd0-f130-40a0-8602-859ee0758ede",
   "metadata": {
    "tags": []
   },
   "source": [
    "## Función de Transferencia\n",
    "\n",
    "Supongamos la función de transferencia:\n",
    "$$G(s) = \\frac{5s + 20}{s^2 + 4s + 20}$$\n",
    "si sacamos factor común y factorizamos:\n",
    "$$G(s) = \\frac{5(s + 4)}{(s + 2 - 4j)(s + 2 + 4j)}$$"
   ]
  },
  {
   "cell_type": "markdown",
   "id": "ef0f528c",
   "metadata": {},
   "source": [
    "### Ingresar al Código"
   ]
  },
  {
   "cell_type": "markdown",
   "id": "1fee1039",
   "metadata": {},
   "source": [
    "##### MATLAB\n",
    "Para ingresar en MATLAB la función de transferencia, lo hacemos de la siguiente manera:\n",
    "```MATLAB\n",
    "% Definir los coeficientes del numerador y denominador\n",
    "num = [5, 20];\n",
    "den = [1, 4, 20];\n",
    "\n",
    "% Crear la función de transferencia\n",
    "G = tf(num, den)\n",
    "```"
   ]
  },
  {
   "cell_type": "markdown",
   "id": "edfb6636",
   "metadata": {},
   "source": [
    "##### Python"
   ]
  },
  {
   "cell_type": "code",
   "execution_count": 4,
   "id": "c81cc2f4-cb7f-4014-b583-5946e052e9d6",
   "metadata": {},
   "outputs": [
    {
     "name": "stdout",
     "output_type": "stream",
     "text": [
      "<TransferFunction>: sys[0]\n",
      "Inputs (1): ['u[0]']\n",
      "Outputs (1): ['y[0]']\n",
      "\n",
      "\n",
      "   5 s + 20\n",
      "--------------\n",
      "s^2 + 4 s + 20\n",
      "\n"
     ]
    }
   ],
   "source": [
    "# Definir los coeficientes del numerador y denominador\n",
    "num = [5, 20]\n",
    "den = [1, 4, 20]\n",
    "\n",
    "# Crear la función de transferencia\n",
    "G = tf(num, den)\n",
    "\n",
    "# Mostrar la función de transferencia\n",
    "print(G)"
   ]
  },
  {
   "cell_type": "markdown",
   "id": "b2ab233a-b62d-428c-923a-d0bcf759cf39",
   "metadata": {},
   "source": [
    "### Ceros, polos y ganancia\n",
    "#### Obtención de ceros, polos y ganancia"
   ]
  },
  {
   "cell_type": "markdown",
   "id": "5df0cf7e",
   "metadata": {},
   "source": [
    "##### MATLAB\n",
    "```MATLAB\n",
    "% Obtener ceros, polos y ganancia\n",
    "[z, p, k] = tf2zp(num, den)\n",
    "```"
   ]
  },
  {
   "cell_type": "markdown",
   "id": "0f395ee6",
   "metadata": {},
   "source": [
    "##### Python"
   ]
  },
  {
   "cell_type": "code",
   "execution_count": 5,
   "id": "f9968410-a677-46ee-8b33-673ebf43231e",
   "metadata": {},
   "outputs": [
    {
     "name": "stdout",
     "output_type": "stream",
     "text": [
      "Ceros:  [-4.]\n",
      "Polos:  [-2.+4.j -2.-4.j]\n",
      "Ganancia:  5.0\n"
     ]
    }
   ],
   "source": [
    "z, p, k = tf2zpk(num, den)\n",
    "print(\"Ceros: \", z)\n",
    "print(\"Polos: \", p)\n",
    "print(\"Ganancia: \", k)"
   ]
  },
  {
   "cell_type": "markdown",
   "id": "0e633ffc-a34c-4f40-b122-4b49795cea54",
   "metadata": {},
   "source": [
    "#### Obtención de la Función de Transferencia"
   ]
  },
  {
   "cell_type": "markdown",
   "id": "29f3a774",
   "metadata": {},
   "source": [
    "##### MATLAB\n",
    "```MATLAB\n",
    "% Definir los ceros, polos y ganancia\n",
    "z = -4; % Cero\n",
    "p = [-2 + 4j, -2 - 4j]; % Polos\n",
    "k = 5; % Ganancia\n",
    "\n",
    "% Obtener función de transferencia\n",
    "G = zpk(z, p, k)\n",
    "\n",
    "% Obtener los coeficientes del numerador y denominador\n",
    "[num, den] = zp2tf(z, p, k)\n",
    "```"
   ]
  },
  {
   "cell_type": "markdown",
   "id": "38d95edb",
   "metadata": {},
   "source": [
    "##### Python"
   ]
  },
  {
   "cell_type": "code",
   "execution_count": 6,
   "id": "c9bc3ea2-fec7-4b3c-81a6-68a531058d9c",
   "metadata": {},
   "outputs": [
    {
     "name": "stdout",
     "output_type": "stream",
     "text": [
      "Numerador:  [ 5. 20.]\n",
      "Denominador:  [ 1.  4. 20.]\n",
      "<TransferFunction>: sys[1]\n",
      "Inputs (1): ['u[0]']\n",
      "Outputs (1): ['y[0]']\n",
      "\n",
      "\n",
      "   5 s + 20\n",
      "--------------\n",
      "s^2 + 4 s + 20\n",
      "\n"
     ]
    }
   ],
   "source": [
    "# Definir los ceros, polos y ganancia\n",
    "z = [-4]  # Ceros\n",
    "p = [-2 + 4j, -2 - 4j]  # Polos\n",
    "k = 5  # Ganancia\n",
    "\n",
    "# Obtener los coeficientes del numerador y denominador\n",
    "num, den = zpk2tf(z, p, k)\n",
    "\n",
    "# Crear la función de transferencia\n",
    "G = tf(num, den)\n",
    "\n",
    "# Mostrar los resultados\n",
    "print(\"Numerador: \", num)\n",
    "print(\"Denominador: \", den)\n",
    "print(G)"
   ]
  },
  {
   "cell_type": "markdown",
   "id": "890cfc90",
   "metadata": {},
   "source": [
    "#### Diagrama de polos y ceros"
   ]
  },
  {
   "cell_type": "markdown",
   "id": "2f03d7af",
   "metadata": {},
   "source": [
    "##### MATLAB\n",
    "```MATLAB\n",
    "% Definir los ceros, polos y ganancia\n",
    "z = -4; % Cero\n",
    "p = [-2 + 4j, -2 - 4j]; % Polos\n",
    "k = 5; % Ganancia\n",
    "\n",
    "% Obtener función de transferencia\n",
    "G = zpk(z, p, k)\n",
    "\n",
    "% Graficar diagrama de polos y ceros\n",
    "pzmap(G)\n",
    "grid\n",
    "```"
   ]
  },
  {
   "cell_type": "markdown",
   "id": "3fac0502",
   "metadata": {},
   "source": [
    "##### Python"
   ]
  },
  {
   "cell_type": "code",
   "execution_count": 7,
   "id": "d49c16a1",
   "metadata": {},
   "outputs": [
    {
     "name": "stderr",
     "output_type": "stream",
     "text": [
      "e:\\UTN\\Sistemas de Control\\Python as MATLAB\\env\\control-systems\\Lib\\site-packages\\control\\pzmap.py:318: FutureWarning: pole_zero_plot() return value of poles, zeros is deprecated; use pole_zero_map()\n",
      "  warnings.warn(\n"
     ]
    },
    {
     "data": {
      "image/png": "[encoded data removed]",
      "text/plain": [
       "<Figure size 640x480 with 1 Axes>"
      ]
     },
     "metadata": {},
     "output_type": "display_data"
    }
   ],
   "source": [
    "# Definir los ceros, polos y ganancia\n",
    "z = [-4]  # Ceros\n",
    "p = [-2 + 4j, -2 - 4j]  # Polos\n",
    "k = 5  # Ganancia\n",
    "\n",
    "# Obtener los coeficientes del numerador y denominador\n",
    "num, den = zpk2tf(z, p, k)\n",
    "\n",
    "# Crear la función de transferencia\n",
    "G = tf(num, den)\n",
    "\n",
    "# Graficar diagrama de polos y ceros\n",
    "pzmap(G, plot=True)\n",
    "title('Diagrama de Polos y Ceros')\n",
    "grid()"
   ]
  },
  {
   "cell_type": "markdown",
   "id": "0ab70d6c",
   "metadata": {},
   "source": [
    "### Desarrollo en fracciones simples\n",
    "Supongamos otra función transferencia:\n",
    "$$G(s) = \\frac{16s + 16}{(s + 2)(s + 4)}$$\n",
    "y que\n",
    "$$R(s) = \\frac{1}{s}$$\n",
    "\n",
    "Como las raı́ces del denominador sor reales y distintas, el método de desarrollo en fracciones simples nos permite escribir a $G_{(s)} x R_{(s)}$ de la siguiente manera:\n",
    "$$\\frac{16s + 16}{s(s + 2)(s + 4)} = \\frac{A}{s} + \\frac{B}{s+2} \\frac{C}{s+4}$$\n",
    "\n",
    "Para calcular los valores de A, B y C lo hacemos mediante la fórmula de residuos, en general, estos cálculos pueden tornarse muy complicados de realizar \"a mano\". Podemos realizar estos cálculos de la siguiente manera:"
   ]
  },
  {
   "cell_type": "markdown",
   "id": "d21589c2",
   "metadata": {},
   "source": [
    "##### MATLAB\n",
    "```MATLAB\n",
    "% Numerador y denominador de la función transferencia\n",
    "num = [16, 16]; % Coeficientes del polinomio del numerador (16s + 16)\n",
    "den = conv([1, 0], conv([1, 2], [1, 4])); % Producto de (s)(s+2)(s+4)\n",
    "\n",
    "% Desarrollo en fracciones simples\n",
    "[A, p, ~] = residue(num, den) % Descartamos el término constante\n",
    "```"
   ]
  },
  {
   "cell_type": "markdown",
   "id": "50a99482",
   "metadata": {},
   "source": [
    "##### Python"
   ]
  },
  {
   "cell_type": "code",
   "execution_count": 8,
   "id": "5073340a",
   "metadata": {},
   "outputs": [
    {
     "name": "stdout",
     "output_type": "stream",
     "text": [
      "Residuos (A, B, C): [ 2.  4. -6.]\n",
      "Polos: [ 0. -2. -4.]\n"
     ]
    }
   ],
   "source": [
    "# Numerador y denominador de la función transferencia\n",
    "num = [16, 16]  # Coeficientes del numerador (16s + 16)\n",
    "den = conv([1, 0], conv([1, 2], [1, 4]))  # Coeficientes del denominador (s^2 + 6s + 8)\n",
    "\n",
    "# Desarrollo en fracciones simples\n",
    "res, p, _ = residue(num, den)  # '_' descarta el término constante si no es necesario\n",
    "\n",
    "# Mostrar los resultados\n",
    "print(\"Residuos (A, B, C):\", res)\n",
    "print(\"Polos:\", p)"
   ]
  },
  {
   "cell_type": "markdown",
   "id": "d69e4041",
   "metadata": {},
   "source": [
    "#### Término constante\n",
    "Si la función transferencia resulta ser _propia_, es decir que el grado del numerador es igual al del denominador, podemos añadir una parámetro más al argumento del lado izquierdo, que lo podemos llamar k. \n",
    "Supongamos que queremos hallar f (t) siendo:\n",
    "$$F(s) = \\frac{2s^3 + 5s^2 + 3s + 6}{s^3 + 6s^2 + 11s + 6} \\Rightarrow f(t) = \\mathcal{L}^{-1}\\{F(s)\\}$$"
   ]
  },
  {
   "cell_type": "markdown",
   "id": "338879b1",
   "metadata": {},
   "source": [
    "##### MATLAB\n",
    "```MATLAB\n",
    "% Numerador y denominador de la función transferencia\n",
    "num = [2, 5, 3, 6]; % Polinomio numerador\n",
    "den = [1, 6, 11, 6]; % Polinomio denominador\n",
    "\n",
    "% Desarrollo en fracciones simples\n",
    "[A, p, k] = residue(num, den)\n",
    "```"
   ]
  },
  {
   "cell_type": "markdown",
   "id": "6966ebf6",
   "metadata": {},
   "source": [
    "##### Python"
   ]
  },
  {
   "cell_type": "code",
   "execution_count": 9,
   "id": "21350ddf",
   "metadata": {},
   "outputs": [
    {
     "name": "stdout",
     "output_type": "stream",
     "text": [
      "Residuos (A, B, C): [ 3. -4. -6.]\n",
      "Polos: [-1. -2. -3.]\n",
      "Ganancia: [2.]\n"
     ]
    }
   ],
   "source": [
    "# Numerador y denominador de la función transferencia\n",
    "num = [2, 5, 3, 6]\n",
    "den = [1, 6, 11, 6]\n",
    "\n",
    "# Desarrollo en fracciones simples\n",
    "res, p, k = residue(num, den)\n",
    "\n",
    "# Mostrar los resultados\n",
    "print(\"Residuos (A, B, C):\", res)\n",
    "print(\"Polos:\", p)\n",
    "print(\"Ganancia:\", k)"
   ]
  },
  {
   "cell_type": "markdown",
   "id": "039e10e4-4e68-4665-8b94-6297da671e92",
   "metadata": {},
   "source": [
    "### Diagrama de Bloques\n",
    "\n",
    "$G_1 (s) = 0.4$, $G_2 (s) = \\frac{100}{s(s+2)}$, $H_2 (s) = \\frac{s}{s+20}$, $H_1 (s) = 1$. Pretendemos hallar $G(s) = \\frac{Y(s)}{R(s)}$ a lazo cerrado.\n",
    "\n",
    "<div style=\"text-align: center;\">\n",
    "    <img src=\"./Fig1-Diagrama de bloques.png\" alt=\"Fig1\"/>\n",
    "</div>\n",
    "\n",
    "Podemos reducir el sistema a la siguiente función de transferencia:\n",
    "$$G(s) = \\frac{40s + 800}{s^3 + 22s^2 + 180s + 800}$$"
   ]
  },
  {
   "cell_type": "markdown",
   "id": "5047fda0",
   "metadata": {},
   "source": [
    "##### MATLAB\n",
    "```MATLAB\n",
    "% Definimos cada bloque\n",
    "G1 = tf([.4])\n",
    "G2 = tf([100], conv([1, 0], [1, 2]))\n",
    "H1 = tf([1])\n",
    "H2 = tf([1, 0], [1, 20])\n",
    "\n",
    "% Comenzamos a describir el diagrama\n",
    "% Resolvemos la realimentación entre G2 y H2\n",
    "sys1 = feedback(G2, H2, -1) % realimentación negativa\n",
    "% Luego, G1 en serie con sys1\n",
    "sys2 = series(G1, sys1)\n",
    "% Y finalmente, la realimentación global\n",
    "G = feedback(sys2, H1, -1) % realimentación negativa\n",
    "```"
   ]
  },
  {
   "cell_type": "markdown",
   "id": "d9857533",
   "metadata": {},
   "source": [
    "##### Python"
   ]
  },
  {
   "cell_type": "code",
   "execution_count": 10,
   "id": "844a4a0b",
   "metadata": {},
   "outputs": [
    {
     "name": "stdout",
     "output_type": "stream",
     "text": [
      "Función de transferencia G:\n",
      "<TransferFunction>: sys[9]\n",
      "Inputs (1): ['u[0]']\n",
      "Outputs (1): ['y[0]']\n",
      "\n",
      "\n",
      "        40 s + 800\n",
      "--------------------------\n",
      "s^3 + 22 s^2 + 180 s + 800\n",
      "\n"
     ]
    }
   ],
   "source": [
    "# Definimos cada bloque\n",
    "G1 = tf([0.4], [1])\n",
    "G2 = tf([100], [1, 2, 0])  # conv([1, 0], [1, 2]) equivale a [1, 2, 0]\n",
    "H1 = tf([1], [1])\n",
    "H2 = tf([1, 0], [1, 20])\n",
    "\n",
    "# Comenzamos a describir el diagrama\n",
    "# Resolvemos la realimentación entre G2 y H2\n",
    "sys1 = feedback(G2, H2, sign=-1)  # realimentación negativa\n",
    "# Luego, G1 en serie con sys1\n",
    "sys2 = series(G1, sys1)\n",
    "# Y finalmente, la realimentación global\n",
    "G = feedback(sys2, H1, sign=-1)  # realimentación negativa\n",
    "\n",
    "# Imprimimos el resultado\n",
    "print(\"Función de transferencia G:\")\n",
    "print(G)"
   ]
  },
  {
   "cell_type": "markdown",
   "id": "38982e2d-8805-40d1-aa9f-2dfef71d25f4",
   "metadata": {},
   "source": [
    "## Respuesta al Impulso\n",
    "Supongamos que tenemos una función transferencia de la siguiente forma:\n",
    "$$Y(s) = \\frac{1}{(s+1)(s+2)}$$\n",
    "\n",
    "Si calculamos ahora la antitransformada resulta que $y(t) = e^{−t} − e^{−2t}$.\n",
    "\n",
    "Ingresamos los vectores numerador y denominador y luego ejecutemos el comando:"
   ]
  },
  {
   "cell_type": "markdown",
   "id": "9e07f3cd",
   "metadata": {},
   "source": [
    "##### MATLAB\n",
    "```MATLAB\n",
    "% Definimos la función de transferencia\n",
    "Y = tf([1], conv([1, 1], [1, 2]))\n",
    "\n",
    "% Obtenemos la respuesta al impulso\n",
    "impulse(Y)\n",
    "grid\n",
    "```"
   ]
  },
  {
   "cell_type": "markdown",
   "id": "d37bfdb0",
   "metadata": {},
   "source": [
    "##### Python"
   ]
  },
  {
   "cell_type": "code",
   "execution_count": 11,
   "id": "4e6fb553",
   "metadata": {},
   "outputs": [
    {
     "name": "stdout",
     "output_type": "stream",
     "text": [
      "<TransferFunction>: sys[10]\n",
      "Inputs (1): ['u[0]']\n",
      "Outputs (1): ['y[0]']\n",
      "\n",
      "\n",
      "      1\n",
      "-------------\n",
      "s^2 + 3 s + 2\n",
      "\n"
     ]
    },
    {
     "data": {
      "image/png": "[encoded data removed]",
      "text/plain": [
       "<Figure size 640x480 with 1 Axes>"
      ]
     },
     "metadata": {},
     "output_type": "display_data"
    }
   ],
   "source": [
    "# Definimos la función de transferencia\n",
    "Y = tf([1], conv([1, 1], [1, 2]))\n",
    "print(Y)\n",
    "\n",
    "# Obtenemos la respuesta al impulso\n",
    "y, t = impulse(Y)   # y es la respuesta al impulso, t es el tiempo\n",
    "\n",
    "# Graficamos la respuesta al impulso\n",
    "plot(t, y)\n",
    "title('Respuesta al impulso')\n",
    "xlabel('Tiempo (s)')\n",
    "ylabel('Amplitud')\n",
    "grid()"
   ]
  },
  {
   "cell_type": "markdown",
   "id": "b75bf23c-c554-4990-a6b4-e0a1a2aae356",
   "metadata": {},
   "source": [
    "## Respuesta al Escalón unitario\n",
    "Calculemos la respuesta al escalón unitario de la función transferencia:\n",
    "$$G(s) = \\frac{Y(s)}{R(s)} = \\frac{4}{s^2 + 0.8s + 4}$$"
   ]
  },
  {
   "cell_type": "markdown",
   "id": "eca7c2cc",
   "metadata": {},
   "source": [
    "##### MATLAB\n",
    "```MATLAB\n",
    "% Definimos la función de transferencia\n",
    "G = tf([4], [1, .8, 4])\n",
    "\n",
    "% Obtenemos la respuesta al escalón\n",
    "step(G)\n",
    "grid\n",
    "```"
   ]
  },
  {
   "cell_type": "markdown",
   "id": "4b958720",
   "metadata": {},
   "source": [
    "##### Python"
   ]
  },
  {
   "cell_type": "code",
   "execution_count": 12,
   "id": "4635683d",
   "metadata": {},
   "outputs": [
    {
     "name": "stdout",
     "output_type": "stream",
     "text": [
      "<TransferFunction>: sys[13]\n",
      "Inputs (1): ['u[0]']\n",
      "Outputs (1): ['y[0]']\n",
      "\n",
      "\n",
      "       1\n",
      "---------------\n",
      "s^2 + 0.8 s + 4\n",
      "\n"
     ]
    },
    {
     "data": {
      "image/png": "[encoded data removed]",
      "text/plain": [
       "<Figure size 640x480 with 1 Axes>"
      ]
     },
     "metadata": {},
     "output_type": "display_data"
    }
   ],
   "source": [
    "# Definimos la función de transferencia\n",
    "G = tf([1], [1, .8, 4])\n",
    "print(G)\n",
    "\n",
    "# Obtenemos la respuesta al escalón\n",
    "y, t = step(G)   # y es la respuesta al escalón, t es el tiempo\n",
    "\n",
    "# Graficamos la respuesta al escalón\n",
    "plot(t, y)\n",
    "title('Respuesta al escalón')\n",
    "xlabel('Tiempo (s)')\n",
    "ylabel('Amplitud')\n",
    "grid()"
   ]
  },
  {
   "cell_type": "markdown",
   "id": "9b873d78-85b5-4d94-983e-ff57aa24ff8c",
   "metadata": {},
   "source": [
    "## Respuesta a la Rampa Unitaria\n",
    "Para una entrada rampa unitaria no existe una función predefinida, por lo que veremos cómo con el comando step podemos obtener\n",
    "una rampa. Si seguimos con el ejemplo anterior y excitamos al sistema con $r(t) = t$, es decir que $R(s) = \\frac{1}{s^2}$ , tenemos lo siguiente:\n",
    "$$Y(s) = (\\frac{4}{s^2 + 0.8s + 4}) \\frac{1}{s^2} \\Rightarrow Y(s) = (\\frac{4}{s^3 + 0.8s^2 + 4s}) \\frac{1}{s}$$\n",
    "\n",
    "Por lo que utilizando como denominador de la función transferencia al polinomio $s^3 +0.8s^2 + 4s$, y calculando la respuesta al escalón unitario, otenemos la respuesta a la rampa unitaria."
   ]
  },
  {
   "cell_type": "markdown",
   "id": "32777625",
   "metadata": {},
   "source": [
    "##### MATLAB\n",
    "```MATLAB\n",
    "% Definimos la función de transferencia\n",
    "Y = tf([4], [1, .8, 4, 0])\n",
    "\n",
    "% Obtenemos la respuesta a la rampa\n",
    "step(Y)\n",
    "grid\n",
    "title(\"Ramp Response\")\n",
    "xlim([0, 25])\n",
    "ylim([0, 25])\n",
    "```"
   ]
  },
  {
   "cell_type": "markdown",
   "id": "ed62b83d",
   "metadata": {},
   "source": [
    "##### Python"
   ]
  },
  {
   "cell_type": "code",
   "execution_count": 13,
   "id": "56e652e8",
   "metadata": {},
   "outputs": [
    {
     "name": "stdout",
     "output_type": "stream",
     "text": [
      "<TransferFunction>: sys[16]\n",
      "Inputs (1): ['u[0]']\n",
      "Outputs (1): ['y[0]']\n",
      "\n",
      "\n",
      "         4\n",
      "-------------------\n",
      "s^3 + 0.8 s^2 + 4 s\n",
      "\n"
     ]
    },
    {
     "data": {
      "image/png": "[encoded data removed]",
      "text/plain": [
       "<Figure size 640x480 with 1 Axes>"
      ]
     },
     "metadata": {},
     "output_type": "display_data"
    }
   ],
   "source": [
    "# Definimos la función de transferencia\n",
    "Y = tf([4], [1, .8, 4, 0])\n",
    "print(Y)\n",
    "\n",
    "# Obtenemos la respuesta al escalón\n",
    "y, t = step(Y)   # y es la respuesta al escalón, t es el tiempo\n",
    "\n",
    "# Graficamos la respuesta al escalón\n",
    "plot(t, y)\n",
    "title('Respuesta a la Rampa')\n",
    "xlabel('Tiempo (s)')\n",
    "ylabel('Amplitud')\n",
    "xlim([0, 25])\n",
    "ylim([0, 25])\n",
    "grid()"
   ]
  }
 ],
 "metadata": {
  "kernelspec": {
   "display_name": "control-systems",
   "language": "python",
   "name": "python3"
  },
  "language_info": {
   "codemirror_mode": {
    "name": "ipython",
    "version": 3
   },
   "file_extension": ".py",
   "mimetype": "text/x-python",
   "name": "python",
   "nbconvert_exporter": "python",
   "pygments_lexer": "ipython3",
   "version": "3.13.2"
  }
 },
 "nbformat": 4,
 "nbformat_minor": 5
}
